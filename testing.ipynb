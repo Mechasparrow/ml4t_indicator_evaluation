{
 "cells": [
  {
   "cell_type": "code",
   "execution_count": 10,
   "metadata": {},
   "outputs": [],
   "source": [
    "import sys\n",
    "sys.path.append(\"../\")"
   ]
  },
  {
   "cell_type": "code",
   "execution_count": 11,
   "metadata": {},
   "outputs": [],
   "source": [
    "import numpy as np \t\t  \t   \t\t \t   \t\t\t     \t\t\t  \t \n",
    "import pandas as pd\n",
    "import datetime as dt\n",
    "\t\t\t     \t\t\t  \t \n",
    "from util import get_data"
   ]
  },
  {
   "cell_type": "code",
   "execution_count": 12,
   "metadata": {},
   "outputs": [],
   "source": [
    "symbol = 'AAPL'\n",
    "sd=dt.datetime(2010, 1, 1)\n",
    "ed=dt.datetime(2011,12,31)\n",
    "sv = 100000"
   ]
  },
  {
   "cell_type": "code",
   "execution_count": 23,
   "metadata": {},
   "outputs": [],
   "source": [
    "stock_date_range = pd.date_range(sd, ed)\n",
    "ticker_data = get_data([symbol], stock_date_range, addSPY=False).dropna()"
   ]
  },
  {
   "cell_type": "code",
   "execution_count": 30,
   "metadata": {},
   "outputs": [],
   "source": [
    "tradable_days = list(ticker_data.index)"
   ]
  },
  {
   "cell_type": "code",
   "execution_count": 126,
   "metadata": {},
   "outputs": [],
   "source": [
    "mock_order_book = pd.DataFrame({'Date': tradable_days})\n",
    "mock_order_book[symbol] = 0\n",
    "\n",
    "mock_order_book.loc[mock_order_book['Date'] == '2010-01-04', symbol] = 1000\n",
    "mock_order_book.loc[mock_order_book['Date'] == '2010-01-06', symbol] = -2000"
   ]
  },
  {
   "cell_type": "code",
   "execution_count": 129,
   "metadata": {},
   "outputs": [],
   "source": [
    "df_trades = pd.DataFrame(index=mock_order_book['Date'], data=mock_order_book[symbol].values)\n",
    "df_trades.columns = [symbol]"
   ]
  },
  {
   "cell_type": "code",
   "execution_count": 130,
   "metadata": {},
   "outputs": [
    {
     "data": {
      "text/html": [
       "<div>\n",
       "<style scoped>\n",
       "    .dataframe tbody tr th:only-of-type {\n",
       "        vertical-align: middle;\n",
       "    }\n",
       "\n",
       "    .dataframe tbody tr th {\n",
       "        vertical-align: top;\n",
       "    }\n",
       "\n",
       "    .dataframe thead th {\n",
       "        text-align: right;\n",
       "    }\n",
       "</style>\n",
       "<table border=\"1\" class=\"dataframe\">\n",
       "  <thead>\n",
       "    <tr style=\"text-align: right;\">\n",
       "      <th></th>\n",
       "      <th>Date</th>\n",
       "      <th>Symbol</th>\n",
       "      <th>Order</th>\n",
       "      <th>Shares</th>\n",
       "    </tr>\n",
       "  </thead>\n",
       "  <tbody>\n",
       "    <tr>\n",
       "      <th>0</th>\n",
       "      <td>2010-01-04</td>\n",
       "      <td>AAPL</td>\n",
       "      <td>BUY</td>\n",
       "      <td>1000</td>\n",
       "    </tr>\n",
       "    <tr>\n",
       "      <th>1</th>\n",
       "      <td>2010-01-06</td>\n",
       "      <td>AAPL</td>\n",
       "      <td>SELL</td>\n",
       "      <td>2000</td>\n",
       "    </tr>\n",
       "  </tbody>\n",
       "</table>\n",
       "</div>"
      ],
      "text/plain": [
       "         Date Symbol Order  Shares\n",
       "0  2010-01-04   AAPL   BUY    1000\n",
       "1  2010-01-06   AAPL  SELL    2000"
      ]
     },
     "execution_count": 130,
     "metadata": {},
     "output_type": "execute_result"
    }
   ],
   "source": [
    "df_trades_symbol = df_trades.columns[0]\n",
    "df_trades_order_book = df_trades.loc[df_trades[df_trades_symbol] != 0].copy()\n",
    "\n",
    "complete_order_frame = {\n",
    "    \"Date\": [],\n",
    "    \"Symbol\": [],\n",
    "    \"Order\": [],\n",
    "    \"Shares\": []\n",
    "}\n",
    "\n",
    "for idx,row in df_trades_order_book.iterrows():\n",
    "    shares = row[df_trades_symbol]    \n",
    "    date = pd.Timestamp(idx).date()\n",
    "    \n",
    "    order_type = \"BUY\"\n",
    "    if shares < 0:\n",
    "        order_type = \"SELL\"\n",
    "        \n",
    "    complete_order_frame[\"Date\"].append(date)\n",
    "    complete_order_frame[\"Symbol\"].append(df_trades_symbol)\n",
    "    complete_order_frame[\"Order\"].append(order_type)\n",
    "    complete_order_frame[\"Shares\"].append(abs(shares))\n",
    "    \n",
    "pd.DataFrame(complete_order_frame)"
   ]
  }
 ],
 "metadata": {
  "kernelspec": {
   "display_name": "ml4t-learning",
   "language": "python",
   "name": "python3"
  },
  "language_info": {
   "codemirror_mode": {
    "name": "ipython",
    "version": 3
   },
   "file_extension": ".py",
   "mimetype": "text/x-python",
   "name": "python",
   "nbconvert_exporter": "python",
   "pygments_lexer": "ipython3",
   "version": "3.6.7"
  }
 },
 "nbformat": 4,
 "nbformat_minor": 2
}
